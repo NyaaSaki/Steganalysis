{
  "cells": [
    {
      "cell_type": "markdown",
      "metadata": {
        "id": "d-EeHbxXy_jH"
      },
      "source": [
        "# Imports"
      ]
    },
    {
      "cell_type": "code",
      "execution_count": 8,
      "metadata": {},
      "outputs": [
        {
          "name": "stdout",
          "output_type": "stream",
          "text": [
            "Collecting word2ket\n",
            "  Using cached word2ket-0.0.2-py3-none-any.whl (7.7 kB)\n",
            "Requirement already satisfied: torch in c:\\users\\shado\\appdata\\local\\programs\\python\\python311\\lib\\site-packages (from word2ket) (2.2.0)\n",
            "Collecting gpytorch\n",
            "  Using cached gpytorch-1.11-py3-none-any.whl (266 kB)\n",
            "Requirement already satisfied: scikit-learn in c:\\users\\shado\\appdata\\local\\programs\\python\\python311\\lib\\site-packages (from gpytorch->word2ket) (1.4.0)\n",
            "Collecting linear-operator>=0.5.0\n",
            "  Using cached linear_operator-0.5.2-py3-none-any.whl (175 kB)\n",
            "Requirement already satisfied: filelock in c:\\users\\shado\\appdata\\local\\programs\\python\\python311\\lib\\site-packages (from torch->word2ket) (3.12.0)\n",
            "Requirement already satisfied: typing-extensions>=4.8.0 in c:\\users\\shado\\appdata\\local\\programs\\python\\python311\\lib\\site-packages (from torch->word2ket) (4.9.0)\n",
            "Requirement already satisfied: sympy in c:\\users\\shado\\appdata\\local\\programs\\python\\python311\\lib\\site-packages (from torch->word2ket) (1.12)\n",
            "Requirement already satisfied: networkx in c:\\users\\shado\\appdata\\local\\programs\\python\\python311\\lib\\site-packages (from torch->word2ket) (3.1)\n",
            "Requirement already satisfied: jinja2 in c:\\users\\shado\\appdata\\local\\programs\\python\\python311\\lib\\site-packages (from torch->word2ket) (3.1.2)\n",
            "Requirement already satisfied: fsspec in c:\\users\\shado\\appdata\\local\\programs\\python\\python311\\lib\\site-packages (from torch->word2ket) (2023.12.2)\n",
            "Requirement already satisfied: scipy in c:\\users\\shado\\appdata\\local\\programs\\python\\python311\\lib\\site-packages (from linear-operator>=0.5.0->gpytorch->word2ket) (1.12.0)\n",
            "Collecting jaxtyping>=0.2.9\n",
            "  Using cached jaxtyping-0.2.25-py3-none-any.whl (39 kB)\n",
            "Collecting typeguard~=2.13.3\n",
            "  Using cached typeguard-2.13.3-py3-none-any.whl (17 kB)\n",
            "Requirement already satisfied: MarkupSafe>=2.0 in c:\\users\\shado\\appdata\\local\\programs\\python\\python311\\lib\\site-packages (from jinja2->torch->word2ket) (2.1.2)\n",
            "Requirement already satisfied: numpy<2.0,>=1.19.5 in c:\\users\\shado\\appdata\\local\\programs\\python\\python311\\lib\\site-packages (from scikit-learn->gpytorch->word2ket) (1.24.3)\n",
            "Requirement already satisfied: joblib>=1.2.0 in c:\\users\\shado\\appdata\\local\\programs\\python\\python311\\lib\\site-packages (from scikit-learn->gpytorch->word2ket) (1.3.2)\n",
            "Requirement already satisfied: threadpoolctl>=2.0.0 in c:\\users\\shado\\appdata\\local\\programs\\python\\python311\\lib\\site-packages (from scikit-learn->gpytorch->word2ket) (3.2.0)\n",
            "Requirement already satisfied: mpmath>=0.19 in c:\\users\\shado\\appdata\\local\\programs\\python\\python311\\lib\\site-packages (from sympy->torch->word2ket) (1.3.0)\n",
            "Installing collected packages: typeguard, jaxtyping, linear-operator, gpytorch, word2ket\n",
            "Successfully installed gpytorch-1.11 jaxtyping-0.2.25 linear-operator-0.5.2 typeguard-2.13.3 word2ket-0.0.2\n"
          ]
        },
        {
          "name": "stderr",
          "output_type": "stream",
          "text": [
            "\n",
            "[notice] A new release of pip available: 22.3.1 -> 24.0\n",
            "[notice] To update, run: python.exe -m pip install --upgrade pip\n"
          ]
        }
      ],
      "source": [
        "!pip install word2ket"
      ]
    },
    {
      "cell_type": "code",
      "execution_count": 1,
      "metadata": {
        "id": "qRT8AT3Wy_Gw"
      },
      "outputs": [],
      "source": [
        "#!pip install torchtext\n",
        "import numpy as np # linear algebra\n",
        "import pandas as pd # data processing, CSV file I/O (e.g. pd.read_csv)\n",
        "from sklearn import feature_extraction, linear_model, model_selection, preprocessing\n",
        "import torchtext\n",
        "import torch\n",
        "from torch import nn,optim\n",
        "from time import time"
      ]
    },
    {
      "cell_type": "code",
      "execution_count": 2,
      "metadata": {
        "colab": {
          "base_uri": "https://localhost:8080/"
        },
        "id": "zjC37RPGzF8G",
        "outputId": "bb3f74ca-10aa-4215-8501-4a297fbc01cb"
      },
      "outputs": [
        {
          "name": "stdout",
          "output_type": "stream",
          "text": [
            "      Unnamed: 0                                               text  encoded\n",
            "0              0  The soil I’m walking over comes    from deeper...    False\n",
            "1              1  the close air of the earth whence she derived ...     True\n",
            "2              2  Lyric night of the lingering Indian Summer,\\nS...    False\n",
            "3              3  “Percussus sum sicut foenum, et aruit cor meum...    False\n",
            "4              4  I should be happy with my lot: A wife and moth...    False\n",
            "...          ...                                                ...      ...\n",
            "4789        4789  office has never really is its oldest daughter...     True\n",
            "4790        4790  soot from her car with suitcases and hugged he...     True\n",
            "4791        4791  Seeing in crowded restaurants the one you love...    False\n",
            "4792        4792  flower sweet as I can never forsake And Fortun...     True\n",
            "4793        4793  Echo that loved hid within a wood Would to her...    False\n",
            "\n",
            "[4794 rows x 3 columns]\n"
          ]
        }
      ],
      "source": [
        "data = pd.read_csv(\"dataframe.csv\")\n",
        "print(data)\n",
        "\n"
      ]
    },
    {
      "cell_type": "markdown",
      "metadata": {
        "id": "2-sTY6w8sPBX"
      },
      "source": [
        "Creating tokenizer and vocabulary"
      ]
    },
    {
      "cell_type": "code",
      "execution_count": 3,
      "metadata": {
        "id": "MDqO8gKlr_8-"
      },
      "outputs": [],
      "source": [
        "from torchtext.data import get_tokenizer\n",
        "from torchtext.vocab import build_vocab_from_iterator\n",
        "from torch.utils.data import DataLoader\n",
        "from torch.utils.data import Dataset\n",
        "from torch.nn.utils import rnn\n",
        "from sklearn.model_selection import train_test_split\n",
        "\n",
        "train, test = train_test_split(data, test_size=0.2)\n",
        "\n",
        "\n",
        "tokenizer = get_tokenizer(\"basic_english\")\n",
        "\n",
        "def build_vocabulary(datasets):\n",
        "    for dataset in datasets:\n",
        "        #print(dataset)\n",
        "        for text in dataset['text']:\n",
        "            yield tokenizer(text)\n",
        "\n",
        "vocab = build_vocab_from_iterator(build_vocabulary([data,data]), min_freq=3, specials=[\"<UNK>\"])\n",
        "\n",
        "vocab.set_default_index(vocab[\"<UNK>\"])\n",
        "\n",
        "for l in data['text']:\n",
        "  tokens = tokenizer(l)\n",
        "  indexes = vocab(tokens)\n"
      ]
    },
    {
      "cell_type": "markdown",
      "metadata": {
        "id": "1N3ERPfXsS5Y"
      },
      "source": [
        "Creating Dataloader"
      ]
    },
    {
      "cell_type": "code",
      "execution_count": 4,
      "metadata": {
        "colab": {
          "base_uri": "https://localhost:8080/"
        },
        "id": "9lCTwLmc3qbY",
        "outputId": "0c39e30a-52dd-42b0-9924-b513b5a55397"
      },
      "outputs": [
        {
          "name": "stdout",
          "output_type": "stream",
          "text": [
            "[0]\n"
          ]
        }
      ],
      "source": [
        "\n",
        "class Text(Dataset):\n",
        "  def __init__(self,df):\n",
        "    self.df = df\n",
        "    #print(df)\n",
        "\n",
        "  def pad(self,seq):\n",
        "    if len(seq)>140:\n",
        "      return seq[:140]\n",
        "    else:\n",
        "      for i in range(140-len(seq)):\n",
        "        seq.insert(0,0)\n",
        "      return seq\n",
        "\n",
        "  def __len__(self):\n",
        "    return len(self.df['encoded'])\n",
        "  def __getitem__(self,idx):\n",
        "    \n",
        "    return torch.tensor(self.pad(vocab(tokenizer(self.df['text'][idx])))) , int(self.df['encoded'][idx])\n",
        "\n",
        "test_loader  = DataLoader(Text(test.reset_index()) , batch_size=4)\n",
        "train_loader = DataLoader(Text(train.reset_index()) , batch_size=128)\n",
        "\n",
        "for txt , tgt in test_loader:\n",
        "  _\n",
        "  #print(txt)\n",
        "  #print(txt)\n",
        "voc = len(vocab)\n",
        "#print(tokens)\n",
        "\n",
        "print(vocab([\"<UNK>\"]))"
      ]
    },
    {
      "cell_type": "code",
      "execution_count": 5,
      "metadata": {
        "colab": {
          "base_uri": "https://localhost:8080/"
        },
        "id": "ZA8yAqD5uNlv",
        "outputId": "8378145f-943c-440c-b1a6-e6bc4ad80aa3"
      },
      "outputs": [
        {
          "name": "stdout",
          "output_type": "stream",
          "text": [
            "      Unnamed: 0                                               text  encoded\n",
            "1427        1427  Carried her unprotesting out the door. Kicked ...    False\n",
            "2896        2896  while munching cookies. Its slope gone gaily g...     True\n",
            "1246        1246  My sister and I went out to them with sugar cu...    False\n",
            "3451        3451  One spring day I saw the shadow of a strawberr...    False\n",
            "2382        2382  The fair rolled into town surprisingly intact,...    False\n",
            "...          ...                                                ...      ...\n",
            "3328        3328  which tree makes the maid. Even that lives I t...     True\n",
            "3258        3258  She stood breast high amid the corn,\\nClasped ...    False\n",
            "4464        4464  lives drape itself and thin. Raising each othe...     True\n",
            "3399        3399  thee Dost thou shalt be names whom society arr...     True\n",
            "2723        2723  A Deaf Blind poet doesn’t like to read sitting...    False\n",
            "\n",
            "[959 rows x 3 columns]\n",
            "      Unnamed: 0                                               text  encoded\n",
            "169          169  Is to love you. I lay on the all knowing sycam...     True\n",
            "4424        4424  sanguine laws which tempt and slay Religion Ch...     True\n",
            "880          880  For James Kim (1971 — 2006)    it could have h...    False\n",
            "1802        1802  where the route of a ship bringing tax grain f...    False\n",
            "4033        4033  One face looks out from all his canvases, One ...    False\n",
            "...          ...                                                ...      ...\n",
            "1582        1582  The lightning struck him and left a scar. The ...    False\n",
            "2874        2874  I’ll snip your hair   Cut it all off until you...    False\n",
            "2388        2388  rim of the drunken janitor. We forget as we mo...     True\n",
            "3461        3461  dark of France for the crossroadsBandoleros se...     True\n",
            "3571        3571  of my sunhat three children for the fondue. An...     True\n",
            "\n",
            "[3835 rows x 3 columns]\n"
          ]
        }
      ],
      "source": [
        "print(test)\n",
        "print(train)"
      ]
    },
    {
      "cell_type": "markdown",
      "metadata": {
        "id": "sBASklq2sVY4"
      },
      "source": [
        "Creating RNN"
      ]
    },
    {
      "cell_type": "markdown",
      "metadata": {},
      "source": []
    },
    {
      "cell_type": "code",
      "execution_count": 26,
      "metadata": {
        "colab": {
          "base_uri": "https://localhost:8080/"
        },
        "id": "lho9HQKX5xQ4",
        "outputId": "c8bc3725-3f1c-440d-84c9-0a194fd89e47"
      },
      "outputs": [
        {
          "name": "stdout",
          "output_type": "stream",
          "text": [
            "RNN(\n",
            "  (embedding_layer): Embedding(18658, 64)\n",
            "  (rnn): RNN(64, 32, num_layers=3, batch_first=True)\n",
            "  (linear1): Linear(in_features=32, out_features=32, bias=True)\n",
            "  (linear2): Linear(in_features=32, out_features=2, bias=True)\n",
            "  (act): ReLU()\n",
            "  (out): LogSoftmax(dim=1)\n",
            ")\n"
          ]
        }
      ],
      "source": [
        "\n",
        "class RNN(nn.Module):\n",
        "    def __init__(self):\n",
        "        super(RNN, self).__init__()\n",
        "        self.embedding_layer = nn.Embedding(len(vocab),64)\n",
        "        self.rnn = nn.RNN(64,32, 3, batch_first=True)\n",
        "        self.linear1 = nn.Linear(32,32)\n",
        "        self.linear2 = nn.Linear(32,2)\n",
        "        self.act = nn.ReLU()\n",
        "        self.out = nn.LogSoftmax(dim = 1)\n",
        "\n",
        "    def forward(self, X_batch):\n",
        "        embeddings = self.embedding_layer(X_batch)\n",
        "        output, hidden = self.rnn(embeddings)\n",
        "        return self.out(self.linear2(self.act(self.linear1(self.act(output[:,-1])))))\n",
        "\n",
        "model = RNN()\n",
        "\n",
        "print(model)\n"
      ]
    },
    {
      "cell_type": "code",
      "execution_count": 27,
      "metadata": {},
      "outputs": [
        {
          "name": "stdout",
          "output_type": "stream",
          "text": [
            "Module Name                                                                           Total Parameters  Trainable Parameters # Elements in Trainable Parametrs       \n",
            "Embedding(18658, 64)                                                                  1                 1                    1,194,112                               \n",
            "RNN(64, 32, num_layers=3, batch_first=True)                                           12                12                   7,360                                   \n",
            "Linear(in_features=32, out_features=32, bias=True)                                    2                 2                    1,056                                   \n",
            "Linear(in_features=32, out_features=2, bias=True)                                     2                 2                    66                                      \n",
            "ReLU()                                                                                0                 0                    0                                       \n",
            "LogSoftmax(dim=1)                                                                     0                 0                    0                                       \n",
            "Total number of trainable parameters elements 1,202,594\n"
          ]
        },
        {
          "data": {
            "text/plain": [
              "1202594"
            ]
          },
          "execution_count": 27,
          "metadata": {},
          "output_type": "execute_result"
        }
      ],
      "source": [
        "from word2ket import EmbeddingKet, EmbeddingKetXS , ketify,summary\n",
        "summary(model)\n",
        "#ketify(model,order = 8,rank = 4, use_EmbeddingKetXS= False)\n"
      ]
    },
    {
      "cell_type": "code",
      "execution_count": 28,
      "metadata": {},
      "outputs": [
        {
          "name": "stdout",
          "output_type": "stream",
          "text": [
            "Module Name                                                                           Total Parameters  Trainable Parameters # Elements in Trainable Parametrs       \n",
            "Embedding(18658, 64)                                                                  1                 1                    1,194,112                               \n",
            "RNN(64, 32, num_layers=3, batch_first=True)                                           12                12                   7,360                                   \n",
            "Linear(in_features=32, out_features=32, bias=True)                                    2                 2                    1,056                                   \n",
            "Linear(in_features=32, out_features=2, bias=True)                                     2                 2                    66                                      \n",
            "ReLU()                                                                                0                 0                    0                                       \n",
            "LogSoftmax(dim=1)                                                                     0                 0                    0                                       \n",
            "Total number of trainable parameters elements 1,202,594\n"
          ]
        },
        {
          "data": {
            "text/plain": [
              "1202594"
            ]
          },
          "execution_count": 28,
          "metadata": {},
          "output_type": "execute_result"
        }
      ],
      "source": [
        "summary(model)"
      ]
    },
    {
      "cell_type": "code",
      "execution_count": 37,
      "metadata": {
        "id": "Xm4dx7xel-tW"
      },
      "outputs": [],
      "source": [
        "accuracy = []\n",
        "optimizer = optim.SGD(model.parameters(), lr=0.011, momentum=0.3)\n",
        "criterion = nn.NLLLoss()\n",
        "time0 = time()"
      ]
    },
    {
      "cell_type": "markdown",
      "metadata": {
        "id": "NUNFSJmNsXd4"
      },
      "source": [
        "Training"
      ]
    },
    {
      "cell_type": "code",
      "execution_count": 38,
      "metadata": {
        "colab": {
          "base_uri": "https://localhost:8080/"
        },
        "id": "oGFaOLWuCXZr",
        "outputId": "ea4031a7-e6ef-4e62-f9df-1f82601c52f0"
      },
      "outputs": [
        {
          "name": "stdout",
          "output_type": "stream",
          "text": [
            "\n",
            "Epoch 1 - Training loss: 0.04883295198281606\n",
            "Model Accuracy = 0.8832116788321168\n",
            "\n",
            "Epoch 2 - Training loss: 0.061678497741619744\n",
            "Model Accuracy = 0.7914494264859229\n",
            "\n",
            "Epoch 3 - Training loss: 0.048910461366176605\n",
            "Model Accuracy = 0.6110531803962461\n",
            "\n",
            "Epoch 4 - Training loss: 0.056576991950472194\n",
            "Model Accuracy = 0.7403545359749739\n",
            "\n",
            "Epoch 5 - Training loss: 0.07224832028150559\n",
            "Model Accuracy = 0.7403545359749739\n",
            "\n",
            "Epoch 6 - Training loss: 0.06882342907289664\n",
            "Model Accuracy = 0.7507820646506778\n",
            "\n",
            "Epoch 7 - Training loss: 0.0662396602332592\n",
            "Model Accuracy = 0.7632950990615224\n",
            "\n",
            "Epoch 8 - Training loss: 0.06398002045849958\n",
            "Model Accuracy = 0.7695516162669447\n",
            "\n",
            "Epoch 9 - Training loss: 0.06169098503887653\n",
            "Model Accuracy = 0.7872784150156413\n",
            "\n",
            "Epoch 10 - Training loss: 0.058894057075182596\n",
            "Model Accuracy = 0.7935349322210636\n",
            "\n",
            "Epoch 11 - Training loss: 0.05566041097044945\n",
            "Model Accuracy = 0.8070907194994786\n",
            "\n",
            "Epoch 12 - Training loss: 0.05228903604050477\n",
            "Model Accuracy = 0.8175182481751825\n",
            "\n",
            "Epoch 13 - Training loss: 0.04912903582056363\n",
            "Model Accuracy = 0.8237747653806048\n",
            "\n",
            "Epoch 14 - Training loss: 0.04609876026709874\n",
            "Model Accuracy = 0.8289885297184567\n",
            "\n",
            "Epoch 15 - Training loss: 0.0432793893540899\n",
            "Model Accuracy = 0.8415015641293013\n",
            "\n",
            "Epoch 16 - Training loss: 0.04031771626323462\n",
            "Model Accuracy = 0.8529718456725756\n",
            "\n",
            "Epoch 17 - Training loss: 0.03668043923874696\n",
            "Model Accuracy = 0.8738269030239834\n",
            "\n",
            "Epoch 18 - Training loss: 0.03208352606743574\n",
            "Model Accuracy = 0.8978102189781022\n",
            "\n",
            "Epoch 19 - Training loss: 0.024998665787279606\n",
            "Model Accuracy = 0.9499478623566214\n",
            "\n",
            "Epoch 20 - Training loss: 0.023837207816541195\n",
            "Model Accuracy = 0.940563086548488\n"
          ]
        }
      ],
      "source": [
        "accuracy = []\n",
        "epochs = 20\n",
        "for e in range(epochs):\n",
        "    running_loss = 0\n",
        "    for text, tgt in train_loader:\n",
        "        # Training pass\n",
        "        optimizer.zero_grad()\n",
        "\n",
        "        output = model(text)\n",
        "\n",
        "        loss = criterion(output, tgt)\n",
        "\n",
        "        #This is where the model learns by backpropagating\n",
        "        loss.backward()\n",
        "        #And optimizes its weights here\n",
        "        optimizer.step()\n",
        "        #print(loss.item())\n",
        "        running_loss += loss.item()\n",
        "\n",
        "    else:\n",
        "        #print(\"\\nTraining Time (in minutes) =\",(time()-time0)/60)\n",
        "        #print(output)\n",
        "        print(\"\\nEpoch {} - Training loss: {}\".format(e+1, running_loss/len(test_loader)))\n",
        "    correct_count, all_count = 0, 0\n",
        "    for images,labels in test_loader:\n",
        "      for i in range(len(labels)):\n",
        "        img = images[i].view(1,-1)\n",
        "        with torch.no_grad():\n",
        "          logps = model(img)\n",
        "\n",
        "\n",
        "        ps = torch.exp(logps)\n",
        "        probab = list(ps.numpy()[0])\n",
        "        pred_label = probab.index(max(probab))\n",
        "        true_label = labels.numpy()[i]\n",
        "        #print(pred_label)\n",
        "        if(true_label == pred_label):\n",
        "          correct_count += 1\n",
        "        all_count += 1\n",
        "\n",
        "    #print(\"Number Of Images Tested =\", all_count)\n",
        "    print(\"Model Accuracy =\", (correct_count/all_count))\n",
        "    accuracy.append((correct_count/all_count))\n"
      ]
    },
    {
      "cell_type": "code",
      "execution_count": 39,
      "metadata": {},
      "outputs": [],
      "source": [
        "import matplotlib.pyplot as plt"
      ]
    },
    {
      "cell_type": "code",
      "execution_count": 44,
      "metadata": {},
      "outputs": [
        {
          "data": {
            "image/png": "[encoded data removed]",
            "text/plain": [
              "<Figure size 640x480 with 1 Axes>"
            ]
          },
          "metadata": {},
          "output_type": "display_data"
        }
      ],
      "source": [
        "x_values = range(1, len(accuracy) + 1)\n",
        "\n",
        "plt.plot(x_values[2:], accuracy[2:])\n",
        "plt.ylim(0,1)\n",
        "plt.xlabel('Epochs')\n",
        "plt.ylabel('Accuracy')\n",
        "plt.title('Accuracy VS Epochs')\n",
        "    \n",
        "\n",
        "plt.show()"
      ]
    },
    {
      "cell_type": "markdown",
      "metadata": {
        "id": "aZAXL3oV02zg"
      },
      "source": [
        "#Texts for testing:\n",
        "\n",
        "Free entry in 2 a wkly comp to win FA Cup final tkts 21st May 2005. Text FA to 87121 to receive entry question(std txt rate)T&C's apply 08452810075over18's\n",
        "\n",
        "Even my brother is not like to speak with me. They treat me like aids patent.\n",
        "\n"
      ]
    }
  ],
  "metadata": {
    "colab": {
      "gpuType": "T4",
      "provenance": []
    },
    "kernelspec": {
      "display_name": "Python 3",
      "name": "python3"
    },
    "language_info": {
      "codemirror_mode": {
        "name": "ipython",
        "version": 3
      },
      "file_extension": ".py",
      "mimetype": "text/x-python",
      "name": "python",
      "nbconvert_exporter": "python",
      "pygments_lexer": "ipython3",
      "version": "3.11.3"
    }
  },
  "nbformat": 4,
  "nbformat_minor": 0
}
